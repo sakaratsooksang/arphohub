{
  "nbformat": 4,
  "nbformat_minor": 0,
  "metadata": {
    "colab": {
      "name": "6030826721_redwine_hw_regression.ipynb",
      "provenance": [],
      "collapsed_sections": []
    },
    "kernelspec": {
      "name": "python3",
      "display_name": "Python 3"
    }
  },
  "cells": [
    {
      "cell_type": "markdown",
      "metadata": {
        "id": "-NwXq1Dulzrn"
      },
      "source": [
        "# **Red Wine Homework**"
      ]
    },
    {
      "cell_type": "code",
      "metadata": {
        "id": "Pd744dTIlHcc"
      },
      "source": [
        "# Import libraries necessary for this project\n",
        "import numpy as np\n",
        "import pandas as pd\n",
        "from pandas import set_option\n",
        "import seaborn as sns\n",
        "import matplotlib.pyplot as plt\n",
        "%matplotlib inline\n",
        "\n",
        "from sklearn.linear_model import LinearRegression\n",
        "from sklearn.metrics import mean_squared_error"
      ],
      "execution_count": 2,
      "outputs": []
    },
    {
      "cell_type": "code",
      "metadata": {
        "id": "wq5getJRmGjQ"
      },
      "source": [
        "import matplotlib.pyplot as plt\n",
        "plt.rcParams['figure.figsize'] = [13, 10]       "
      ],
      "execution_count": 3,
      "outputs": []
    },
    {
      "cell_type": "code",
      "metadata": {
        "id": "MEc7CKWkmPBK"
      },
      "source": [
        "data = pd.read_csv(\"/content/winequality-red.csv\")"
      ],
      "execution_count": 4,
      "outputs": []
    },
    {
      "cell_type": "code",
      "metadata": {
        "colab": {
          "base_uri": "https://localhost:8080/",
          "height": 453
        },
        "id": "Wro78_ptmd4S",
        "outputId": "c42a4dc5-9ca0-4c5c-9982-dfe08e001191"
      },
      "source": [
        "data"
      ],
      "execution_count": 5,
      "outputs": [
        {
          "output_type": "execute_result",
          "data": {
            "text/html": [
              "<div>\n",
              "<style scoped>\n",
              "    .dataframe tbody tr th:only-of-type {\n",
              "        vertical-align: middle;\n",
              "    }\n",
              "\n",
              "    .dataframe tbody tr th {\n",
              "        vertical-align: top;\n",
              "    }\n",
              "\n",
              "    .dataframe thead th {\n",
              "        text-align: right;\n",
              "    }\n",
              "</style>\n",
              "<table border=\"1\" class=\"dataframe\">\n",
              "  <thead>\n",
              "    <tr style=\"text-align: right;\">\n",
              "      <th></th>\n",
              "      <th>fixed acidity</th>\n",
              "      <th>volatile acidity</th>\n",
              "      <th>citric acid</th>\n",
              "      <th>residual sugar</th>\n",
              "      <th>chlorides</th>\n",
              "      <th>free sulfur dioxide</th>\n",
              "      <th>total sulfur dioxide</th>\n",
              "      <th>density</th>\n",
              "      <th>pH</th>\n",
              "      <th>sulphates</th>\n",
              "      <th>alcohol</th>\n",
              "      <th>quality</th>\n",
              "    </tr>\n",
              "  </thead>\n",
              "  <tbody>\n",
              "    <tr>\n",
              "      <th>0</th>\n",
              "      <td>7.4</td>\n",
              "      <td>0.700</td>\n",
              "      <td>0.00</td>\n",
              "      <td>1.9</td>\n",
              "      <td>0.076</td>\n",
              "      <td>11.0</td>\n",
              "      <td>34.0</td>\n",
              "      <td>0.99780</td>\n",
              "      <td>3.51</td>\n",
              "      <td>0.56</td>\n",
              "      <td>9.4</td>\n",
              "      <td>5</td>\n",
              "    </tr>\n",
              "    <tr>\n",
              "      <th>1</th>\n",
              "      <td>7.8</td>\n",
              "      <td>0.880</td>\n",
              "      <td>0.00</td>\n",
              "      <td>2.6</td>\n",
              "      <td>0.098</td>\n",
              "      <td>25.0</td>\n",
              "      <td>67.0</td>\n",
              "      <td>0.99680</td>\n",
              "      <td>3.20</td>\n",
              "      <td>0.68</td>\n",
              "      <td>9.8</td>\n",
              "      <td>5</td>\n",
              "    </tr>\n",
              "    <tr>\n",
              "      <th>2</th>\n",
              "      <td>7.8</td>\n",
              "      <td>0.760</td>\n",
              "      <td>0.04</td>\n",
              "      <td>2.3</td>\n",
              "      <td>0.092</td>\n",
              "      <td>15.0</td>\n",
              "      <td>54.0</td>\n",
              "      <td>0.99700</td>\n",
              "      <td>3.26</td>\n",
              "      <td>0.65</td>\n",
              "      <td>9.8</td>\n",
              "      <td>5</td>\n",
              "    </tr>\n",
              "    <tr>\n",
              "      <th>3</th>\n",
              "      <td>11.2</td>\n",
              "      <td>0.280</td>\n",
              "      <td>0.56</td>\n",
              "      <td>1.9</td>\n",
              "      <td>0.075</td>\n",
              "      <td>17.0</td>\n",
              "      <td>60.0</td>\n",
              "      <td>0.99800</td>\n",
              "      <td>3.16</td>\n",
              "      <td>0.58</td>\n",
              "      <td>9.8</td>\n",
              "      <td>6</td>\n",
              "    </tr>\n",
              "    <tr>\n",
              "      <th>4</th>\n",
              "      <td>7.4</td>\n",
              "      <td>0.700</td>\n",
              "      <td>0.00</td>\n",
              "      <td>1.9</td>\n",
              "      <td>0.076</td>\n",
              "      <td>11.0</td>\n",
              "      <td>34.0</td>\n",
              "      <td>0.99780</td>\n",
              "      <td>3.51</td>\n",
              "      <td>0.56</td>\n",
              "      <td>9.4</td>\n",
              "      <td>5</td>\n",
              "    </tr>\n",
              "    <tr>\n",
              "      <th>...</th>\n",
              "      <td>...</td>\n",
              "      <td>...</td>\n",
              "      <td>...</td>\n",
              "      <td>...</td>\n",
              "      <td>...</td>\n",
              "      <td>...</td>\n",
              "      <td>...</td>\n",
              "      <td>...</td>\n",
              "      <td>...</td>\n",
              "      <td>...</td>\n",
              "      <td>...</td>\n",
              "      <td>...</td>\n",
              "    </tr>\n",
              "    <tr>\n",
              "      <th>1594</th>\n",
              "      <td>6.2</td>\n",
              "      <td>0.600</td>\n",
              "      <td>0.08</td>\n",
              "      <td>2.0</td>\n",
              "      <td>0.090</td>\n",
              "      <td>32.0</td>\n",
              "      <td>44.0</td>\n",
              "      <td>0.99490</td>\n",
              "      <td>3.45</td>\n",
              "      <td>0.58</td>\n",
              "      <td>10.5</td>\n",
              "      <td>5</td>\n",
              "    </tr>\n",
              "    <tr>\n",
              "      <th>1595</th>\n",
              "      <td>5.9</td>\n",
              "      <td>0.550</td>\n",
              "      <td>0.10</td>\n",
              "      <td>2.2</td>\n",
              "      <td>0.062</td>\n",
              "      <td>39.0</td>\n",
              "      <td>51.0</td>\n",
              "      <td>0.99512</td>\n",
              "      <td>3.52</td>\n",
              "      <td>0.76</td>\n",
              "      <td>11.2</td>\n",
              "      <td>6</td>\n",
              "    </tr>\n",
              "    <tr>\n",
              "      <th>1596</th>\n",
              "      <td>6.3</td>\n",
              "      <td>0.510</td>\n",
              "      <td>0.13</td>\n",
              "      <td>2.3</td>\n",
              "      <td>0.076</td>\n",
              "      <td>29.0</td>\n",
              "      <td>40.0</td>\n",
              "      <td>0.99574</td>\n",
              "      <td>3.42</td>\n",
              "      <td>0.75</td>\n",
              "      <td>11.0</td>\n",
              "      <td>6</td>\n",
              "    </tr>\n",
              "    <tr>\n",
              "      <th>1597</th>\n",
              "      <td>5.9</td>\n",
              "      <td>0.645</td>\n",
              "      <td>0.12</td>\n",
              "      <td>2.0</td>\n",
              "      <td>0.075</td>\n",
              "      <td>32.0</td>\n",
              "      <td>44.0</td>\n",
              "      <td>0.99547</td>\n",
              "      <td>3.57</td>\n",
              "      <td>0.71</td>\n",
              "      <td>10.2</td>\n",
              "      <td>5</td>\n",
              "    </tr>\n",
              "    <tr>\n",
              "      <th>1598</th>\n",
              "      <td>6.0</td>\n",
              "      <td>0.310</td>\n",
              "      <td>0.47</td>\n",
              "      <td>3.6</td>\n",
              "      <td>0.067</td>\n",
              "      <td>18.0</td>\n",
              "      <td>42.0</td>\n",
              "      <td>0.99549</td>\n",
              "      <td>3.39</td>\n",
              "      <td>0.66</td>\n",
              "      <td>11.0</td>\n",
              "      <td>6</td>\n",
              "    </tr>\n",
              "  </tbody>\n",
              "</table>\n",
              "<p>1599 rows Ã— 12 columns</p>\n",
              "</div>"
            ],
            "text/plain": [
              "      fixed acidity  volatile acidity  citric acid  ...  sulphates  alcohol  quality\n",
              "0               7.4             0.700         0.00  ...       0.56      9.4        5\n",
              "1               7.8             0.880         0.00  ...       0.68      9.8        5\n",
              "2               7.8             0.760         0.04  ...       0.65      9.8        5\n",
              "3              11.2             0.280         0.56  ...       0.58      9.8        6\n",
              "4               7.4             0.700         0.00  ...       0.56      9.4        5\n",
              "...             ...               ...          ...  ...        ...      ...      ...\n",
              "1594            6.2             0.600         0.08  ...       0.58     10.5        5\n",
              "1595            5.9             0.550         0.10  ...       0.76     11.2        6\n",
              "1596            6.3             0.510         0.13  ...       0.75     11.0        6\n",
              "1597            5.9             0.645         0.12  ...       0.71     10.2        5\n",
              "1598            6.0             0.310         0.47  ...       0.66     11.0        6\n",
              "\n",
              "[1599 rows x 12 columns]"
            ]
          },
          "metadata": {
            "tags": []
          },
          "execution_count": 5
        }
      ]
    },
    {
      "cell_type": "code",
      "metadata": {
        "colab": {
          "base_uri": "https://localhost:8080/"
        },
        "id": "uD-RpZ9BmhSO",
        "outputId": "6f73bedc-cc1f-405e-db04-2a636578d4a0"
      },
      "source": [
        "data.shape"
      ],
      "execution_count": 6,
      "outputs": [
        {
          "output_type": "execute_result",
          "data": {
            "text/plain": [
              "(1599, 12)"
            ]
          },
          "metadata": {
            "tags": []
          },
          "execution_count": 6
        }
      ]
    },
    {
      "cell_type": "code",
      "metadata": {
        "colab": {
          "base_uri": "https://localhost:8080/",
          "height": 83
        },
        "id": "4iH0YitsoTYZ",
        "outputId": "847d6eb6-f047-4a8c-ce7a-5c4c29263593"
      },
      "source": [
        "data[data.isnull().any(axis=1)]"
      ],
      "execution_count": 7,
      "outputs": [
        {
          "output_type": "execute_result",
          "data": {
            "text/html": [
              "<div>\n",
              "<style scoped>\n",
              "    .dataframe tbody tr th:only-of-type {\n",
              "        vertical-align: middle;\n",
              "    }\n",
              "\n",
              "    .dataframe tbody tr th {\n",
              "        vertical-align: top;\n",
              "    }\n",
              "\n",
              "    .dataframe thead th {\n",
              "        text-align: right;\n",
              "    }\n",
              "</style>\n",
              "<table border=\"1\" class=\"dataframe\">\n",
              "  <thead>\n",
              "    <tr style=\"text-align: right;\">\n",
              "      <th></th>\n",
              "      <th>fixed acidity</th>\n",
              "      <th>volatile acidity</th>\n",
              "      <th>citric acid</th>\n",
              "      <th>residual sugar</th>\n",
              "      <th>chlorides</th>\n",
              "      <th>free sulfur dioxide</th>\n",
              "      <th>total sulfur dioxide</th>\n",
              "      <th>density</th>\n",
              "      <th>pH</th>\n",
              "      <th>sulphates</th>\n",
              "      <th>alcohol</th>\n",
              "      <th>quality</th>\n",
              "    </tr>\n",
              "  </thead>\n",
              "  <tbody>\n",
              "  </tbody>\n",
              "</table>\n",
              "</div>"
            ],
            "text/plain": [
              "Empty DataFrame\n",
              "Columns: [fixed acidity, volatile acidity, citric acid, residual sugar, chlorides, free sulfur dioxide, total sulfur dioxide, density, pH, sulphates, alcohol, quality]\n",
              "Index: []"
            ]
          },
          "metadata": {
            "tags": []
          },
          "execution_count": 7
        }
      ]
    },
    {
      "cell_type": "code",
      "metadata": {
        "colab": {
          "base_uri": "https://localhost:8080/",
          "height": 351
        },
        "id": "Qi8_VrWfohGM",
        "outputId": "0813e430-58c6-4693-9348-1afb231dc7fa"
      },
      "source": [
        "data.describe()"
      ],
      "execution_count": 8,
      "outputs": [
        {
          "output_type": "execute_result",
          "data": {
            "text/html": [
              "<div>\n",
              "<style scoped>\n",
              "    .dataframe tbody tr th:only-of-type {\n",
              "        vertical-align: middle;\n",
              "    }\n",
              "\n",
              "    .dataframe tbody tr th {\n",
              "        vertical-align: top;\n",
              "    }\n",
              "\n",
              "    .dataframe thead th {\n",
              "        text-align: right;\n",
              "    }\n",
              "</style>\n",
              "<table border=\"1\" class=\"dataframe\">\n",
              "  <thead>\n",
              "    <tr style=\"text-align: right;\">\n",
              "      <th></th>\n",
              "      <th>fixed acidity</th>\n",
              "      <th>volatile acidity</th>\n",
              "      <th>citric acid</th>\n",
              "      <th>residual sugar</th>\n",
              "      <th>chlorides</th>\n",
              "      <th>free sulfur dioxide</th>\n",
              "      <th>total sulfur dioxide</th>\n",
              "      <th>density</th>\n",
              "      <th>pH</th>\n",
              "      <th>sulphates</th>\n",
              "      <th>alcohol</th>\n",
              "      <th>quality</th>\n",
              "    </tr>\n",
              "  </thead>\n",
              "  <tbody>\n",
              "    <tr>\n",
              "      <th>count</th>\n",
              "      <td>1599.000000</td>\n",
              "      <td>1599.000000</td>\n",
              "      <td>1599.000000</td>\n",
              "      <td>1599.000000</td>\n",
              "      <td>1599.000000</td>\n",
              "      <td>1599.000000</td>\n",
              "      <td>1599.000000</td>\n",
              "      <td>1599.000000</td>\n",
              "      <td>1599.000000</td>\n",
              "      <td>1599.000000</td>\n",
              "      <td>1599.000000</td>\n",
              "      <td>1599.000000</td>\n",
              "    </tr>\n",
              "    <tr>\n",
              "      <th>mean</th>\n",
              "      <td>8.319637</td>\n",
              "      <td>0.527821</td>\n",
              "      <td>0.270976</td>\n",
              "      <td>2.538806</td>\n",
              "      <td>0.087467</td>\n",
              "      <td>15.874922</td>\n",
              "      <td>46.467792</td>\n",
              "      <td>0.996747</td>\n",
              "      <td>3.311113</td>\n",
              "      <td>0.658149</td>\n",
              "      <td>10.422983</td>\n",
              "      <td>5.636023</td>\n",
              "    </tr>\n",
              "    <tr>\n",
              "      <th>std</th>\n",
              "      <td>1.741096</td>\n",
              "      <td>0.179060</td>\n",
              "      <td>0.194801</td>\n",
              "      <td>1.409928</td>\n",
              "      <td>0.047065</td>\n",
              "      <td>10.460157</td>\n",
              "      <td>32.895324</td>\n",
              "      <td>0.001887</td>\n",
              "      <td>0.154386</td>\n",
              "      <td>0.169507</td>\n",
              "      <td>1.065668</td>\n",
              "      <td>0.807569</td>\n",
              "    </tr>\n",
              "    <tr>\n",
              "      <th>min</th>\n",
              "      <td>4.600000</td>\n",
              "      <td>0.120000</td>\n",
              "      <td>0.000000</td>\n",
              "      <td>0.900000</td>\n",
              "      <td>0.012000</td>\n",
              "      <td>1.000000</td>\n",
              "      <td>6.000000</td>\n",
              "      <td>0.990070</td>\n",
              "      <td>2.740000</td>\n",
              "      <td>0.330000</td>\n",
              "      <td>8.400000</td>\n",
              "      <td>3.000000</td>\n",
              "    </tr>\n",
              "    <tr>\n",
              "      <th>25%</th>\n",
              "      <td>7.100000</td>\n",
              "      <td>0.390000</td>\n",
              "      <td>0.090000</td>\n",
              "      <td>1.900000</td>\n",
              "      <td>0.070000</td>\n",
              "      <td>7.000000</td>\n",
              "      <td>22.000000</td>\n",
              "      <td>0.995600</td>\n",
              "      <td>3.210000</td>\n",
              "      <td>0.550000</td>\n",
              "      <td>9.500000</td>\n",
              "      <td>5.000000</td>\n",
              "    </tr>\n",
              "    <tr>\n",
              "      <th>50%</th>\n",
              "      <td>7.900000</td>\n",
              "      <td>0.520000</td>\n",
              "      <td>0.260000</td>\n",
              "      <td>2.200000</td>\n",
              "      <td>0.079000</td>\n",
              "      <td>14.000000</td>\n",
              "      <td>38.000000</td>\n",
              "      <td>0.996750</td>\n",
              "      <td>3.310000</td>\n",
              "      <td>0.620000</td>\n",
              "      <td>10.200000</td>\n",
              "      <td>6.000000</td>\n",
              "    </tr>\n",
              "    <tr>\n",
              "      <th>75%</th>\n",
              "      <td>9.200000</td>\n",
              "      <td>0.640000</td>\n",
              "      <td>0.420000</td>\n",
              "      <td>2.600000</td>\n",
              "      <td>0.090000</td>\n",
              "      <td>21.000000</td>\n",
              "      <td>62.000000</td>\n",
              "      <td>0.997835</td>\n",
              "      <td>3.400000</td>\n",
              "      <td>0.730000</td>\n",
              "      <td>11.100000</td>\n",
              "      <td>6.000000</td>\n",
              "    </tr>\n",
              "    <tr>\n",
              "      <th>max</th>\n",
              "      <td>15.900000</td>\n",
              "      <td>1.580000</td>\n",
              "      <td>1.000000</td>\n",
              "      <td>15.500000</td>\n",
              "      <td>0.611000</td>\n",
              "      <td>72.000000</td>\n",
              "      <td>289.000000</td>\n",
              "      <td>1.003690</td>\n",
              "      <td>4.010000</td>\n",
              "      <td>2.000000</td>\n",
              "      <td>14.900000</td>\n",
              "      <td>8.000000</td>\n",
              "    </tr>\n",
              "  </tbody>\n",
              "</table>\n",
              "</div>"
            ],
            "text/plain": [
              "       fixed acidity  volatile acidity  ...      alcohol      quality\n",
              "count    1599.000000       1599.000000  ...  1599.000000  1599.000000\n",
              "mean        8.319637          0.527821  ...    10.422983     5.636023\n",
              "std         1.741096          0.179060  ...     1.065668     0.807569\n",
              "min         4.600000          0.120000  ...     8.400000     3.000000\n",
              "25%         7.100000          0.390000  ...     9.500000     5.000000\n",
              "50%         7.900000          0.520000  ...    10.200000     6.000000\n",
              "75%         9.200000          0.640000  ...    11.100000     6.000000\n",
              "max        15.900000          1.580000  ...    14.900000     8.000000\n",
              "\n",
              "[8 rows x 12 columns]"
            ]
          },
          "metadata": {
            "tags": []
          },
          "execution_count": 8
        }
      ]
    },
    {
      "cell_type": "code",
      "metadata": {
        "colab": {
          "base_uri": "https://localhost:8080/",
          "height": 557
        },
        "id": "q9N2-5rBokcV",
        "outputId": "02151f19-ee65-4093-8396-9c1ce0552c78"
      },
      "source": [
        "# correlation\n",
        "set_option('precision', 2)\n",
        "data.corr(method='pearson')"
      ],
      "execution_count": 9,
      "outputs": [
        {
          "output_type": "execute_result",
          "data": {
            "text/html": [
              "<div>\n",
              "<style scoped>\n",
              "    .dataframe tbody tr th:only-of-type {\n",
              "        vertical-align: middle;\n",
              "    }\n",
              "\n",
              "    .dataframe tbody tr th {\n",
              "        vertical-align: top;\n",
              "    }\n",
              "\n",
              "    .dataframe thead th {\n",
              "        text-align: right;\n",
              "    }\n",
              "</style>\n",
              "<table border=\"1\" class=\"dataframe\">\n",
              "  <thead>\n",
              "    <tr style=\"text-align: right;\">\n",
              "      <th></th>\n",
              "      <th>fixed acidity</th>\n",
              "      <th>volatile acidity</th>\n",
              "      <th>citric acid</th>\n",
              "      <th>residual sugar</th>\n",
              "      <th>chlorides</th>\n",
              "      <th>free sulfur dioxide</th>\n",
              "      <th>total sulfur dioxide</th>\n",
              "      <th>density</th>\n",
              "      <th>pH</th>\n",
              "      <th>sulphates</th>\n",
              "      <th>alcohol</th>\n",
              "      <th>quality</th>\n",
              "    </tr>\n",
              "  </thead>\n",
              "  <tbody>\n",
              "    <tr>\n",
              "      <th>fixed acidity</th>\n",
              "      <td>1.00</td>\n",
              "      <td>-2.56e-01</td>\n",
              "      <td>0.67</td>\n",
              "      <td>1.15e-01</td>\n",
              "      <td>9.37e-02</td>\n",
              "      <td>-1.54e-01</td>\n",
              "      <td>-0.11</td>\n",
              "      <td>0.67</td>\n",
              "      <td>-0.68</td>\n",
              "      <td>1.83e-01</td>\n",
              "      <td>-0.06</td>\n",
              "      <td>0.12</td>\n",
              "    </tr>\n",
              "    <tr>\n",
              "      <th>volatile acidity</th>\n",
              "      <td>-0.26</td>\n",
              "      <td>1.00e+00</td>\n",
              "      <td>-0.55</td>\n",
              "      <td>1.92e-03</td>\n",
              "      <td>6.13e-02</td>\n",
              "      <td>-1.05e-02</td>\n",
              "      <td>0.08</td>\n",
              "      <td>0.02</td>\n",
              "      <td>0.23</td>\n",
              "      <td>-2.61e-01</td>\n",
              "      <td>-0.20</td>\n",
              "      <td>-0.39</td>\n",
              "    </tr>\n",
              "    <tr>\n",
              "      <th>citric acid</th>\n",
              "      <td>0.67</td>\n",
              "      <td>-5.52e-01</td>\n",
              "      <td>1.00</td>\n",
              "      <td>1.44e-01</td>\n",
              "      <td>2.04e-01</td>\n",
              "      <td>-6.10e-02</td>\n",
              "      <td>0.04</td>\n",
              "      <td>0.36</td>\n",
              "      <td>-0.54</td>\n",
              "      <td>3.13e-01</td>\n",
              "      <td>0.11</td>\n",
              "      <td>0.23</td>\n",
              "    </tr>\n",
              "    <tr>\n",
              "      <th>residual sugar</th>\n",
              "      <td>0.11</td>\n",
              "      <td>1.92e-03</td>\n",
              "      <td>0.14</td>\n",
              "      <td>1.00e+00</td>\n",
              "      <td>5.56e-02</td>\n",
              "      <td>1.87e-01</td>\n",
              "      <td>0.20</td>\n",
              "      <td>0.36</td>\n",
              "      <td>-0.09</td>\n",
              "      <td>5.53e-03</td>\n",
              "      <td>0.04</td>\n",
              "      <td>0.01</td>\n",
              "    </tr>\n",
              "    <tr>\n",
              "      <th>chlorides</th>\n",
              "      <td>0.09</td>\n",
              "      <td>6.13e-02</td>\n",
              "      <td>0.20</td>\n",
              "      <td>5.56e-02</td>\n",
              "      <td>1.00e+00</td>\n",
              "      <td>5.56e-03</td>\n",
              "      <td>0.05</td>\n",
              "      <td>0.20</td>\n",
              "      <td>-0.27</td>\n",
              "      <td>3.71e-01</td>\n",
              "      <td>-0.22</td>\n",
              "      <td>-0.13</td>\n",
              "    </tr>\n",
              "    <tr>\n",
              "      <th>free sulfur dioxide</th>\n",
              "      <td>-0.15</td>\n",
              "      <td>-1.05e-02</td>\n",
              "      <td>-0.06</td>\n",
              "      <td>1.87e-01</td>\n",
              "      <td>5.56e-03</td>\n",
              "      <td>1.00e+00</td>\n",
              "      <td>0.67</td>\n",
              "      <td>-0.02</td>\n",
              "      <td>0.07</td>\n",
              "      <td>5.17e-02</td>\n",
              "      <td>-0.07</td>\n",
              "      <td>-0.05</td>\n",
              "    </tr>\n",
              "    <tr>\n",
              "      <th>total sulfur dioxide</th>\n",
              "      <td>-0.11</td>\n",
              "      <td>7.65e-02</td>\n",
              "      <td>0.04</td>\n",
              "      <td>2.03e-01</td>\n",
              "      <td>4.74e-02</td>\n",
              "      <td>6.68e-01</td>\n",
              "      <td>1.00</td>\n",
              "      <td>0.07</td>\n",
              "      <td>-0.07</td>\n",
              "      <td>4.29e-02</td>\n",
              "      <td>-0.21</td>\n",
              "      <td>-0.19</td>\n",
              "    </tr>\n",
              "    <tr>\n",
              "      <th>density</th>\n",
              "      <td>0.67</td>\n",
              "      <td>2.20e-02</td>\n",
              "      <td>0.36</td>\n",
              "      <td>3.55e-01</td>\n",
              "      <td>2.01e-01</td>\n",
              "      <td>-2.19e-02</td>\n",
              "      <td>0.07</td>\n",
              "      <td>1.00</td>\n",
              "      <td>-0.34</td>\n",
              "      <td>1.49e-01</td>\n",
              "      <td>-0.50</td>\n",
              "      <td>-0.17</td>\n",
              "    </tr>\n",
              "    <tr>\n",
              "      <th>pH</th>\n",
              "      <td>-0.68</td>\n",
              "      <td>2.35e-01</td>\n",
              "      <td>-0.54</td>\n",
              "      <td>-8.57e-02</td>\n",
              "      <td>-2.65e-01</td>\n",
              "      <td>7.04e-02</td>\n",
              "      <td>-0.07</td>\n",
              "      <td>-0.34</td>\n",
              "      <td>1.00</td>\n",
              "      <td>-1.97e-01</td>\n",
              "      <td>0.21</td>\n",
              "      <td>-0.06</td>\n",
              "    </tr>\n",
              "    <tr>\n",
              "      <th>sulphates</th>\n",
              "      <td>0.18</td>\n",
              "      <td>-2.61e-01</td>\n",
              "      <td>0.31</td>\n",
              "      <td>5.53e-03</td>\n",
              "      <td>3.71e-01</td>\n",
              "      <td>5.17e-02</td>\n",
              "      <td>0.04</td>\n",
              "      <td>0.15</td>\n",
              "      <td>-0.20</td>\n",
              "      <td>1.00e+00</td>\n",
              "      <td>0.09</td>\n",
              "      <td>0.25</td>\n",
              "    </tr>\n",
              "    <tr>\n",
              "      <th>alcohol</th>\n",
              "      <td>-0.06</td>\n",
              "      <td>-2.02e-01</td>\n",
              "      <td>0.11</td>\n",
              "      <td>4.21e-02</td>\n",
              "      <td>-2.21e-01</td>\n",
              "      <td>-6.94e-02</td>\n",
              "      <td>-0.21</td>\n",
              "      <td>-0.50</td>\n",
              "      <td>0.21</td>\n",
              "      <td>9.36e-02</td>\n",
              "      <td>1.00</td>\n",
              "      <td>0.48</td>\n",
              "    </tr>\n",
              "    <tr>\n",
              "      <th>quality</th>\n",
              "      <td>0.12</td>\n",
              "      <td>-3.91e-01</td>\n",
              "      <td>0.23</td>\n",
              "      <td>1.37e-02</td>\n",
              "      <td>-1.29e-01</td>\n",
              "      <td>-5.07e-02</td>\n",
              "      <td>-0.19</td>\n",
              "      <td>-0.17</td>\n",
              "      <td>-0.06</td>\n",
              "      <td>2.51e-01</td>\n",
              "      <td>0.48</td>\n",
              "      <td>1.00</td>\n",
              "    </tr>\n",
              "  </tbody>\n",
              "</table>\n",
              "</div>"
            ],
            "text/plain": [
              "                      fixed acidity  volatile acidity  ...  alcohol  quality\n",
              "fixed acidity                  1.00         -2.56e-01  ...    -0.06     0.12\n",
              "volatile acidity              -0.26          1.00e+00  ...    -0.20    -0.39\n",
              "citric acid                    0.67         -5.52e-01  ...     0.11     0.23\n",
              "residual sugar                 0.11          1.92e-03  ...     0.04     0.01\n",
              "chlorides                      0.09          6.13e-02  ...    -0.22    -0.13\n",
              "free sulfur dioxide           -0.15         -1.05e-02  ...    -0.07    -0.05\n",
              "total sulfur dioxide          -0.11          7.65e-02  ...    -0.21    -0.19\n",
              "density                        0.67          2.20e-02  ...    -0.50    -0.17\n",
              "pH                            -0.68          2.35e-01  ...     0.21    -0.06\n",
              "sulphates                      0.18         -2.61e-01  ...     0.09     0.25\n",
              "alcohol                       -0.06         -2.02e-01  ...     1.00     0.48\n",
              "quality                        0.12         -3.91e-01  ...     0.48     1.00\n",
              "\n",
              "[12 rows x 12 columns]"
            ]
          },
          "metadata": {
            "tags": []
          },
          "execution_count": 9
        }
      ]
    },
    {
      "cell_type": "code",
      "metadata": {
        "colab": {
          "base_uri": "https://localhost:8080/",
          "height": 679
        },
        "id": "A-JJuq0Cot0p",
        "outputId": "94d778a4-d787-4d3a-dc8f-9dd689587877"
      },
      "source": [
        "plt.figure(figsize=(12,10))\n",
        "cor = data.corr()\n",
        "sns.heatmap(cor, annot=True, cmap=\"YlGnBu\")\n",
        "plt.show()"
      ],
      "execution_count": 10,
      "outputs": [
        {
          "output_type": "display_data",
          "data": {
            "image/png": "[encoded data removed]",
            "text/plain": [
              "<Figure size 864x720 with 2 Axes>"
            ]
          },
          "metadata": {
            "tags": [],
            "needs_background": "light"
          }
        }
      ]
    },
    {
      "cell_type": "code",
      "metadata": {
        "colab": {
          "base_uri": "https://localhost:8080/"
        },
        "id": "9N_IrKfmo80M",
        "outputId": "d1c4a9ea-791a-4f81-eda4-2e8d0dbaeb93"
      },
      "source": [
        "#Correlation with output variable\n",
        "cor_target = abs(cor[\"quality\"])\n",
        "\n",
        "#Selecting highly correlated features\n",
        "relevant_features = cor_target[cor_target>0.25]\n",
        "relevant_features"
      ],
      "execution_count": 11,
      "outputs": [
        {
          "output_type": "execute_result",
          "data": {
            "text/plain": [
              "volatile acidity    0.39\n",
              "sulphates           0.25\n",
              "alcohol             0.48\n",
              "quality             1.00\n",
              "Name: quality, dtype: float64"
            ]
          },
          "metadata": {
            "tags": []
          },
          "execution_count": 11
        }
      ]
    },
    {
      "cell_type": "code",
      "metadata": {
        "colab": {
          "base_uri": "https://localhost:8080/",
          "height": 607
        },
        "id": "Qyep5T20pHNu",
        "outputId": "0e205e9f-c235-4c4e-9d34-ae6be46926dd"
      },
      "source": [
        "# Data visualizations\n",
        "\n",
        "# histograms\n",
        "data.hist(bins=10,figsize=(15,10),grid=False);"
      ],
      "execution_count": 12,
      "outputs": [
        {
          "output_type": "display_data",
          "data": {
            "image/png": "[encoded data removed]",
            "text/plain": [
              "<Figure size 1080x720 with 12 Axes>"
            ]
          },
          "metadata": {
            "tags": [],
            "needs_background": "light"
          }
        }
      ]
    },
    {
      "cell_type": "code",
      "metadata": {
        "colab": {
          "base_uri": "https://localhost:8080/"
        },
        "id": "lNBuSGhqpVD4",
        "outputId": "959288b9-905c-40a1-9b55-a85982bd0603"
      },
      "source": [
        "cor_target"
      ],
      "execution_count": 13,
      "outputs": [
        {
          "output_type": "execute_result",
          "data": {
            "text/plain": [
              "fixed acidity           0.12\n",
              "volatile acidity        0.39\n",
              "citric acid             0.23\n",
              "residual sugar          0.01\n",
              "chlorides               0.13\n",
              "free sulfur dioxide     0.05\n",
              "total sulfur dioxide    0.19\n",
              "density                 0.17\n",
              "pH                      0.06\n",
              "sulphates               0.25\n",
              "alcohol                 0.48\n",
              "quality                 1.00\n",
              "Name: quality, dtype: float64"
            ]
          },
          "metadata": {
            "tags": []
          },
          "execution_count": 13
        }
      ]
    },
    {
      "cell_type": "code",
      "metadata": {
        "colab": {
          "base_uri": "https://localhost:8080/",
          "height": 1000
        },
        "id": "cU89nB2dpeVJ",
        "outputId": "fe5a0e7f-5af5-40a8-8f56-302e7ac387ad"
      },
      "source": [
        "from scipy import stats\n",
        "#histogram and normal probability plot\n",
        "print( data.columns )\n",
        "print( stats.skew(data) )\n",
        "\n",
        "sns.distplot(data['quality'], hist=True);\n",
        "fig = plt.figure()\n",
        "res = stats.probplot(data['quality'], plot=plt)"
      ],
      "execution_count": 15,
      "outputs": [
        {
          "output_type": "stream",
          "text": [
            "Index(['fixed acidity', 'volatile acidity', 'citric acid', 'residual sugar',\n",
            "       'chlorides', 'free sulfur dioxide', 'total sulfur dioxide', 'density',\n",
            "       'pH', 'sulphates', 'alcohol', 'quality'],\n",
            "      dtype='object')\n",
            "[0.9818293  0.6709624  0.31803859 4.53639479 5.67501653 1.24939385\n",
            " 1.51410919 0.07122077 0.19350176 2.42639346 0.86002106 0.21759721]\n"
          ],
          "name": "stdout"
        },
        {
          "output_type": "stream",
          "text": [
            "/usr/local/lib/python3.7/dist-packages/seaborn/distributions.py:2557: FutureWarning: `distplot` is a deprecated function and will be removed in a future version. Please adapt your code to use either `displot` (a figure-level function with similar flexibility) or `histplot` (an axes-level function for histograms).\n",
            "  warnings.warn(msg, FutureWarning)\n"
          ],
          "name": "stderr"
        },
        {
          "output_type": "display_data",
          "data": {
            "image/png": "[encoded data removed]",
            "text/plain": [
              "<Figure size 936x720 with 1 Axes>"
            ]
          },
          "metadata": {
            "tags": [],
            "needs_background": "light"
          }
        },
        {
          "output_type": "display_data",
          "data": {
            "image/png": "[encoded data removed]",
            "text/plain": [
              "<Figure size 936x720 with 1 Axes>"
            ]
          },
          "metadata": {
            "tags": [],
            "needs_background": "light"
          }
        }
      ]
    },
    {
      "cell_type": "code",
      "metadata": {
        "colab": {
          "base_uri": "https://localhost:8080/"
        },
        "id": "KvJ49BaxIo9s",
        "outputId": "26e10c50-cbb9-4ed7-8138-480f001ac625"
      },
      "source": [
        "# variable selection\n",
        "x = data.drop(columns=['quality'])\n",
        "x = x[['volatile acidity','sulphates','alcohol']]\n",
        "y = data[\"quality\"]\n",
        "print(x.shape)\n",
        "print(y.shape)"
      ],
      "execution_count": 16,
      "outputs": [
        {
          "output_type": "stream",
          "text": [
            "(1599, 3)\n",
            "(1599,)\n"
          ],
          "name": "stdout"
        }
      ]
    },
    {
      "cell_type": "code",
      "metadata": {
        "id": "AUvnTXXzJHPk"
      },
      "source": [
        "from sklearn.model_selection import train_test_split\n",
        "#testing data size is of 33% of entire data\n",
        "x_train, x_test, y_train, y_test =train_test_split(x,y, test_size=0.25, random_state=101)"
      ],
      "execution_count": 17,
      "outputs": []
    },
    {
      "cell_type": "code",
      "metadata": {
        "id": "QdZlpANjJP-M"
      },
      "source": [
        "from sklearn.linear_model import LinearRegression\n",
        "#fitting our model to train and test\n",
        "lm = LinearRegression()\n",
        "model = lm.fit(x_train,y_train)"
      ],
      "execution_count": 18,
      "outputs": []
    },
    {
      "cell_type": "code",
      "metadata": {
        "colab": {
          "base_uri": "https://localhost:8080/"
        },
        "id": "0vwA19gtJfht",
        "outputId": "9ffd4ba6-f9b4-481a-afad-28bb4324ac3f"
      },
      "source": [
        "print(x.columns)\n",
        "print(model.intercept_)\n",
        "print(model.coef_)"
      ],
      "execution_count": 19,
      "outputs": [
        {
          "output_type": "stream",
          "text": [
            "Index(['volatile acidity', 'sulphates', 'alcohol'], dtype='object')\n",
            "2.538053571815932\n",
            "[-1.24589318  0.65587012  0.32113945]\n"
          ],
          "name": "stdout"
        }
      ]
    },
    {
      "cell_type": "code",
      "metadata": {
        "id": "ry8WJfUUJklp"
      },
      "source": [
        "y_pred = model.predict(x_test)"
      ],
      "execution_count": 20,
      "outputs": []
    },
    {
      "cell_type": "code",
      "metadata": {
        "colab": {
          "base_uri": "https://localhost:8080/",
          "height": 204
        },
        "id": "auTGdyOPJ44f",
        "outputId": "3f177923-5c1a-4406-da8d-565663bbd8dd"
      },
      "source": [
        "pd.DataFrame({\"Actual\": y_test, \"Predict\": y_pred}).head()"
      ],
      "execution_count": 21,
      "outputs": [
        {
          "output_type": "execute_result",
          "data": {
            "text/html": [
              "<div>\n",
              "<style scoped>\n",
              "    .dataframe tbody tr th:only-of-type {\n",
              "        vertical-align: middle;\n",
              "    }\n",
              "\n",
              "    .dataframe tbody tr th {\n",
              "        vertical-align: top;\n",
              "    }\n",
              "\n",
              "    .dataframe thead th {\n",
              "        text-align: right;\n",
              "    }\n",
              "</style>\n",
              "<table border=\"1\" class=\"dataframe\">\n",
              "  <thead>\n",
              "    <tr style=\"text-align: right;\">\n",
              "      <th></th>\n",
              "      <th>Actual</th>\n",
              "      <th>Predict</th>\n",
              "    </tr>\n",
              "  </thead>\n",
              "  <tbody>\n",
              "    <tr>\n",
              "      <th>678</th>\n",
              "      <td>5</td>\n",
              "      <td>5.13</td>\n",
              "    </tr>\n",
              "    <tr>\n",
              "      <th>1500</th>\n",
              "      <td>5</td>\n",
              "      <td>5.07</td>\n",
              "    </tr>\n",
              "    <tr>\n",
              "      <th>1457</th>\n",
              "      <td>5</td>\n",
              "      <td>5.20</td>\n",
              "    </tr>\n",
              "    <tr>\n",
              "      <th>1079</th>\n",
              "      <td>7</td>\n",
              "      <td>6.45</td>\n",
              "    </tr>\n",
              "    <tr>\n",
              "      <th>909</th>\n",
              "      <td>6</td>\n",
              "      <td>6.19</td>\n",
              "    </tr>\n",
              "  </tbody>\n",
              "</table>\n",
              "</div>"
            ],
            "text/plain": [
              "      Actual  Predict\n",
              "678        5     5.13\n",
              "1500       5     5.07\n",
              "1457       5     5.20\n",
              "1079       7     6.45\n",
              "909        6     6.19"
            ]
          },
          "metadata": {
            "tags": []
          },
          "execution_count": 21
        }
      ]
    },
    {
      "cell_type": "code",
      "metadata": {
        "colab": {
          "base_uri": "https://localhost:8080/",
          "height": 623
        },
        "id": "F2Jn65_OJ9ci",
        "outputId": "cfb54c3a-5259-47d4-d4ce-15f1b3fdf59e"
      },
      "source": [
        "plt.scatter(y_test,y_pred)\n",
        "plt.xlabel('Y Test')\n",
        "plt.ylabel('Predicted Y')"
      ],
      "execution_count": 22,
      "outputs": [
        {
          "output_type": "execute_result",
          "data": {
            "text/plain": [
              "Text(0, 0.5, 'Predicted Y')"
            ]
          },
          "metadata": {
            "tags": []
          },
          "execution_count": 22
        },
        {
          "output_type": "display_data",
          "data": {
            "image/png": "[encoded data removed]",
            "text/plain": [
              "<Figure size 936x720 with 1 Axes>"
            ]
          },
          "metadata": {
            "tags": [],
            "needs_background": "light"
          }
        }
      ]
    },
    {
      "cell_type": "code",
      "metadata": {
        "colab": {
          "base_uri": "https://localhost:8080/"
        },
        "id": "l2hEkKBbKI7C",
        "outputId": "7db62648-c200-4e44-ec3c-e79024dac313"
      },
      "source": [
        "# calculate MSE\n",
        "import math\n",
        "import sklearn\n",
        "mse = sklearn.metrics.mean_squared_error(y_test, y_pred)\n",
        "print(math.sqrt(mse))\n",
        "print(y_test.mean())\n",
        "\n",
        "# R^2\n",
        "print( model.score(x_test,y_test) )"
      ],
      "execution_count": 23,
      "outputs": [
        {
          "output_type": "stream",
          "text": [
            "0.7247871008598725\n",
            "5.585\n",
            "0.27319519688304217\n"
          ],
          "name": "stdout"
        }
      ]
    },
    {
      "cell_type": "code",
      "metadata": {
        "colab": {
          "base_uri": "https://localhost:8080/",
          "height": 419
        },
        "id": "yyDl3iWtKPNN",
        "outputId": "afc9ed7a-ef81-4aa2-fc4d-6f085e2336e5"
      },
      "source": [
        "pd.DataFrame({\"Actual\": y_test, \"Predict\": y_pred})"
      ],
      "execution_count": 24,
      "outputs": [
        {
          "output_type": "execute_result",
          "data": {
            "text/html": [
              "<div>\n",
              "<style scoped>\n",
              "    .dataframe tbody tr th:only-of-type {\n",
              "        vertical-align: middle;\n",
              "    }\n",
              "\n",
              "    .dataframe tbody tr th {\n",
              "        vertical-align: top;\n",
              "    }\n",
              "\n",
              "    .dataframe thead th {\n",
              "        text-align: right;\n",
              "    }\n",
              "</style>\n",
              "<table border=\"1\" class=\"dataframe\">\n",
              "  <thead>\n",
              "    <tr style=\"text-align: right;\">\n",
              "      <th></th>\n",
              "      <th>Actual</th>\n",
              "      <th>Predict</th>\n",
              "    </tr>\n",
              "  </thead>\n",
              "  <tbody>\n",
              "    <tr>\n",
              "      <th>678</th>\n",
              "      <td>5</td>\n",
              "      <td>5.13</td>\n",
              "    </tr>\n",
              "    <tr>\n",
              "      <th>1500</th>\n",
              "      <td>5</td>\n",
              "      <td>5.07</td>\n",
              "    </tr>\n",
              "    <tr>\n",
              "      <th>1457</th>\n",
              "      <td>5</td>\n",
              "      <td>5.20</td>\n",
              "    </tr>\n",
              "    <tr>\n",
              "      <th>1079</th>\n",
              "      <td>7</td>\n",
              "      <td>6.45</td>\n",
              "    </tr>\n",
              "    <tr>\n",
              "      <th>909</th>\n",
              "      <td>6</td>\n",
              "      <td>6.19</td>\n",
              "    </tr>\n",
              "    <tr>\n",
              "      <th>...</th>\n",
              "      <td>...</td>\n",
              "      <td>...</td>\n",
              "    </tr>\n",
              "    <tr>\n",
              "      <th>1528</th>\n",
              "      <td>6</td>\n",
              "      <td>5.86</td>\n",
              "    </tr>\n",
              "    <tr>\n",
              "      <th>647</th>\n",
              "      <td>4</td>\n",
              "      <td>5.40</td>\n",
              "    </tr>\n",
              "    <tr>\n",
              "      <th>352</th>\n",
              "      <td>5</td>\n",
              "      <td>5.17</td>\n",
              "    </tr>\n",
              "    <tr>\n",
              "      <th>116</th>\n",
              "      <td>6</td>\n",
              "      <td>5.48</td>\n",
              "    </tr>\n",
              "    <tr>\n",
              "      <th>1001</th>\n",
              "      <td>7</td>\n",
              "      <td>6.04</td>\n",
              "    </tr>\n",
              "  </tbody>\n",
              "</table>\n",
              "<p>400 rows Ã— 2 columns</p>\n",
              "</div>"
            ],
            "text/plain": [
              "      Actual  Predict\n",
              "678        5     5.13\n",
              "1500       5     5.07\n",
              "1457       5     5.20\n",
              "1079       7     6.45\n",
              "909        6     6.19\n",
              "...      ...      ...\n",
              "1528       6     5.86\n",
              "647        4     5.40\n",
              "352        5     5.17\n",
              "116        6     5.48\n",
              "1001       7     6.04\n",
              "\n",
              "[400 rows x 2 columns]"
            ]
          },
          "metadata": {
            "tags": []
          },
          "execution_count": 24
        }
      ]
    },
    {
      "cell_type": "markdown",
      "metadata": {
        "id": "Z4uX0XnIKUCh"
      },
      "source": [
        "# **Post Processing**"
      ]
    },
    {
      "cell_type": "code",
      "metadata": {
        "colab": {
          "base_uri": "https://localhost:8080/"
        },
        "id": "ZmoGhI4JKQoZ",
        "outputId": "8cb0b756-4df1-4668-fe5f-b89c653f4399"
      },
      "source": [
        "sorted(data)\n",
        "Q1=data.quantile(0.25)\n",
        "Q3=data.quantile(0.75)\n",
        "IQR=Q3-Q1\n",
        "print(IQR)"
      ],
      "execution_count": 26,
      "outputs": [
        {
          "output_type": "stream",
          "text": [
            "fixed acidity           2.10e+00\n",
            "volatile acidity        2.50e-01\n",
            "citric acid             3.30e-01\n",
            "residual sugar          7.00e-01\n",
            "chlorides               2.00e-02\n",
            "free sulfur dioxide     1.40e+01\n",
            "total sulfur dioxide    4.00e+01\n",
            "density                 2.23e-03\n",
            "pH                      1.90e-01\n",
            "sulphates               1.80e-01\n",
            "alcohol                 1.60e+00\n",
            "quality                 1.00e+00\n",
            "dtype: float64\n"
          ],
          "name": "stdout"
        }
      ]
    },
    {
      "cell_type": "code",
      "metadata": {
        "colab": {
          "base_uri": "https://localhost:8080/",
          "height": 453
        },
        "id": "Q16TlZomLDJJ",
        "outputId": "52913a9d-ac8b-46d4-f7bf-b3ef45547ab1"
      },
      "source": [
        "data_cleared_iqr = data[~((data < (Q1 - 1.5 * IQR)) |(data > (Q3 + 1.5 * IQR))).any(axis=1)]\n",
        "data_cleared_iqr"
      ],
      "execution_count": 28,
      "outputs": [
        {
          "output_type": "execute_result",
          "data": {
            "text/html": [
              "<div>\n",
              "<style scoped>\n",
              "    .dataframe tbody tr th:only-of-type {\n",
              "        vertical-align: middle;\n",
              "    }\n",
              "\n",
              "    .dataframe tbody tr th {\n",
              "        vertical-align: top;\n",
              "    }\n",
              "\n",
              "    .dataframe thead th {\n",
              "        text-align: right;\n",
              "    }\n",
              "</style>\n",
              "<table border=\"1\" class=\"dataframe\">\n",
              "  <thead>\n",
              "    <tr style=\"text-align: right;\">\n",
              "      <th></th>\n",
              "      <th>fixed acidity</th>\n",
              "      <th>volatile acidity</th>\n",
              "      <th>citric acid</th>\n",
              "      <th>residual sugar</th>\n",
              "      <th>chlorides</th>\n",
              "      <th>free sulfur dioxide</th>\n",
              "      <th>total sulfur dioxide</th>\n",
              "      <th>density</th>\n",
              "      <th>pH</th>\n",
              "      <th>sulphates</th>\n",
              "      <th>alcohol</th>\n",
              "      <th>quality</th>\n",
              "    </tr>\n",
              "  </thead>\n",
              "  <tbody>\n",
              "    <tr>\n",
              "      <th>0</th>\n",
              "      <td>7.4</td>\n",
              "      <td>0.70</td>\n",
              "      <td>0.00</td>\n",
              "      <td>1.9</td>\n",
              "      <td>0.08</td>\n",
              "      <td>11.0</td>\n",
              "      <td>34.0</td>\n",
              "      <td>1.00</td>\n",
              "      <td>3.51</td>\n",
              "      <td>0.56</td>\n",
              "      <td>9.4</td>\n",
              "      <td>5</td>\n",
              "    </tr>\n",
              "    <tr>\n",
              "      <th>1</th>\n",
              "      <td>7.8</td>\n",
              "      <td>0.88</td>\n",
              "      <td>0.00</td>\n",
              "      <td>2.6</td>\n",
              "      <td>0.10</td>\n",
              "      <td>25.0</td>\n",
              "      <td>67.0</td>\n",
              "      <td>1.00</td>\n",
              "      <td>3.20</td>\n",
              "      <td>0.68</td>\n",
              "      <td>9.8</td>\n",
              "      <td>5</td>\n",
              "    </tr>\n",
              "    <tr>\n",
              "      <th>2</th>\n",
              "      <td>7.8</td>\n",
              "      <td>0.76</td>\n",
              "      <td>0.04</td>\n",
              "      <td>2.3</td>\n",
              "      <td>0.09</td>\n",
              "      <td>15.0</td>\n",
              "      <td>54.0</td>\n",
              "      <td>1.00</td>\n",
              "      <td>3.26</td>\n",
              "      <td>0.65</td>\n",
              "      <td>9.8</td>\n",
              "      <td>5</td>\n",
              "    </tr>\n",
              "    <tr>\n",
              "      <th>3</th>\n",
              "      <td>11.2</td>\n",
              "      <td>0.28</td>\n",
              "      <td>0.56</td>\n",
              "      <td>1.9</td>\n",
              "      <td>0.07</td>\n",
              "      <td>17.0</td>\n",
              "      <td>60.0</td>\n",
              "      <td>1.00</td>\n",
              "      <td>3.16</td>\n",
              "      <td>0.58</td>\n",
              "      <td>9.8</td>\n",
              "      <td>6</td>\n",
              "    </tr>\n",
              "    <tr>\n",
              "      <th>4</th>\n",
              "      <td>7.4</td>\n",
              "      <td>0.70</td>\n",
              "      <td>0.00</td>\n",
              "      <td>1.9</td>\n",
              "      <td>0.08</td>\n",
              "      <td>11.0</td>\n",
              "      <td>34.0</td>\n",
              "      <td>1.00</td>\n",
              "      <td>3.51</td>\n",
              "      <td>0.56</td>\n",
              "      <td>9.4</td>\n",
              "      <td>5</td>\n",
              "    </tr>\n",
              "    <tr>\n",
              "      <th>...</th>\n",
              "      <td>...</td>\n",
              "      <td>...</td>\n",
              "      <td>...</td>\n",
              "      <td>...</td>\n",
              "      <td>...</td>\n",
              "      <td>...</td>\n",
              "      <td>...</td>\n",
              "      <td>...</td>\n",
              "      <td>...</td>\n",
              "      <td>...</td>\n",
              "      <td>...</td>\n",
              "      <td>...</td>\n",
              "    </tr>\n",
              "    <tr>\n",
              "      <th>1594</th>\n",
              "      <td>6.2</td>\n",
              "      <td>0.60</td>\n",
              "      <td>0.08</td>\n",
              "      <td>2.0</td>\n",
              "      <td>0.09</td>\n",
              "      <td>32.0</td>\n",
              "      <td>44.0</td>\n",
              "      <td>0.99</td>\n",
              "      <td>3.45</td>\n",
              "      <td>0.58</td>\n",
              "      <td>10.5</td>\n",
              "      <td>5</td>\n",
              "    </tr>\n",
              "    <tr>\n",
              "      <th>1595</th>\n",
              "      <td>5.9</td>\n",
              "      <td>0.55</td>\n",
              "      <td>0.10</td>\n",
              "      <td>2.2</td>\n",
              "      <td>0.06</td>\n",
              "      <td>39.0</td>\n",
              "      <td>51.0</td>\n",
              "      <td>1.00</td>\n",
              "      <td>3.52</td>\n",
              "      <td>0.76</td>\n",
              "      <td>11.2</td>\n",
              "      <td>6</td>\n",
              "    </tr>\n",
              "    <tr>\n",
              "      <th>1596</th>\n",
              "      <td>6.3</td>\n",
              "      <td>0.51</td>\n",
              "      <td>0.13</td>\n",
              "      <td>2.3</td>\n",
              "      <td>0.08</td>\n",
              "      <td>29.0</td>\n",
              "      <td>40.0</td>\n",
              "      <td>1.00</td>\n",
              "      <td>3.42</td>\n",
              "      <td>0.75</td>\n",
              "      <td>11.0</td>\n",
              "      <td>6</td>\n",
              "    </tr>\n",
              "    <tr>\n",
              "      <th>1597</th>\n",
              "      <td>5.9</td>\n",
              "      <td>0.65</td>\n",
              "      <td>0.12</td>\n",
              "      <td>2.0</td>\n",
              "      <td>0.07</td>\n",
              "      <td>32.0</td>\n",
              "      <td>44.0</td>\n",
              "      <td>1.00</td>\n",
              "      <td>3.57</td>\n",
              "      <td>0.71</td>\n",
              "      <td>10.2</td>\n",
              "      <td>5</td>\n",
              "    </tr>\n",
              "    <tr>\n",
              "      <th>1598</th>\n",
              "      <td>6.0</td>\n",
              "      <td>0.31</td>\n",
              "      <td>0.47</td>\n",
              "      <td>3.6</td>\n",
              "      <td>0.07</td>\n",
              "      <td>18.0</td>\n",
              "      <td>42.0</td>\n",
              "      <td>1.00</td>\n",
              "      <td>3.39</td>\n",
              "      <td>0.66</td>\n",
              "      <td>11.0</td>\n",
              "      <td>6</td>\n",
              "    </tr>\n",
              "  </tbody>\n",
              "</table>\n",
              "<p>1179 rows Ã— 12 columns</p>\n",
              "</div>"
            ],
            "text/plain": [
              "      fixed acidity  volatile acidity  citric acid  ...  sulphates  alcohol  quality\n",
              "0               7.4              0.70         0.00  ...       0.56      9.4        5\n",
              "1               7.8              0.88         0.00  ...       0.68      9.8        5\n",
              "2               7.8              0.76         0.04  ...       0.65      9.8        5\n",
              "3              11.2              0.28         0.56  ...       0.58      9.8        6\n",
              "4               7.4              0.70         0.00  ...       0.56      9.4        5\n",
              "...             ...               ...          ...  ...        ...      ...      ...\n",
              "1594            6.2              0.60         0.08  ...       0.58     10.5        5\n",
              "1595            5.9              0.55         0.10  ...       0.76     11.2        6\n",
              "1596            6.3              0.51         0.13  ...       0.75     11.0        6\n",
              "1597            5.9              0.65         0.12  ...       0.71     10.2        5\n",
              "1598            6.0              0.31         0.47  ...       0.66     11.0        6\n",
              "\n",
              "[1179 rows x 12 columns]"
            ]
          },
          "metadata": {
            "tags": []
          },
          "execution_count": 28
        }
      ]
    },
    {
      "cell_type": "code",
      "metadata": {
        "colab": {
          "base_uri": "https://localhost:8080/",
          "height": 625
        },
        "id": "_SQTSV7KLDgb",
        "outputId": "bea16171-d258-41f3-8724-57c54db8616d"
      },
      "source": [
        "# correlation\n",
        "set_option('precision', 2)\n",
        "data_cleared_iqr.corr(method='pearson')"
      ],
      "execution_count": 30,
      "outputs": [
        {
          "output_type": "execute_result",
          "data": {
            "text/html": [
              "<div>\n",
              "<style scoped>\n",
              "    .dataframe tbody tr th:only-of-type {\n",
              "        vertical-align: middle;\n",
              "    }\n",
              "\n",
              "    .dataframe tbody tr th {\n",
              "        vertical-align: top;\n",
              "    }\n",
              "\n",
              "    .dataframe thead th {\n",
              "        text-align: right;\n",
              "    }\n",
              "</style>\n",
              "<table border=\"1\" class=\"dataframe\">\n",
              "  <thead>\n",
              "    <tr style=\"text-align: right;\">\n",
              "      <th></th>\n",
              "      <th>fixed acidity</th>\n",
              "      <th>volatile acidity</th>\n",
              "      <th>citric acid</th>\n",
              "      <th>residual sugar</th>\n",
              "      <th>chlorides</th>\n",
              "      <th>free sulfur dioxide</th>\n",
              "      <th>total sulfur dioxide</th>\n",
              "      <th>density</th>\n",
              "      <th>pH</th>\n",
              "      <th>sulphates</th>\n",
              "      <th>alcohol</th>\n",
              "      <th>quality</th>\n",
              "    </tr>\n",
              "  </thead>\n",
              "  <tbody>\n",
              "    <tr>\n",
              "      <th>fixed acidity</th>\n",
              "      <td>1.00</td>\n",
              "      <td>-0.27</td>\n",
              "      <td>6.59e-01</td>\n",
              "      <td>2.30e-01</td>\n",
              "      <td>0.20</td>\n",
              "      <td>-1.51e-01</td>\n",
              "      <td>-8.71e-02</td>\n",
              "      <td>0.61</td>\n",
              "      <td>-0.68</td>\n",
              "      <td>0.17</td>\n",
              "      <td>-0.04</td>\n",
              "      <td>1.13e-01</td>\n",
              "    </tr>\n",
              "    <tr>\n",
              "      <th>volatile acidity</th>\n",
              "      <td>-0.27</td>\n",
              "      <td>1.00</td>\n",
              "      <td>-6.27e-01</td>\n",
              "      <td>3.52e-02</td>\n",
              "      <td>0.12</td>\n",
              "      <td>-1.67e-02</td>\n",
              "      <td>9.75e-02</td>\n",
              "      <td>0.04</td>\n",
              "      <td>0.22</td>\n",
              "      <td>-0.32</td>\n",
              "      <td>-0.22</td>\n",
              "      <td>-3.47e-01</td>\n",
              "    </tr>\n",
              "    <tr>\n",
              "      <th>citric acid</th>\n",
              "      <td>0.66</td>\n",
              "      <td>-0.63</td>\n",
              "      <td>1.00e+00</td>\n",
              "      <td>1.49e-01</td>\n",
              "      <td>0.07</td>\n",
              "      <td>-6.89e-02</td>\n",
              "      <td>4.66e-03</td>\n",
              "      <td>0.31</td>\n",
              "      <td>-0.47</td>\n",
              "      <td>0.26</td>\n",
              "      <td>0.14</td>\n",
              "      <td>2.12e-01</td>\n",
              "    </tr>\n",
              "    <tr>\n",
              "      <th>residual sugar</th>\n",
              "      <td>0.23</td>\n",
              "      <td>0.04</td>\n",
              "      <td>1.49e-01</td>\n",
              "      <td>1.00e+00</td>\n",
              "      <td>0.23</td>\n",
              "      <td>8.84e-02</td>\n",
              "      <td>2.00e-01</td>\n",
              "      <td>0.39</td>\n",
              "      <td>-0.05</td>\n",
              "      <td>0.04</td>\n",
              "      <td>0.10</td>\n",
              "      <td>7.93e-03</td>\n",
              "    </tr>\n",
              "    <tr>\n",
              "      <th>chlorides</th>\n",
              "      <td>0.20</td>\n",
              "      <td>0.12</td>\n",
              "      <td>7.30e-02</td>\n",
              "      <td>2.33e-01</td>\n",
              "      <td>1.00</td>\n",
              "      <td>1.23e-02</td>\n",
              "      <td>1.77e-01</td>\n",
              "      <td>0.41</td>\n",
              "      <td>-0.18</td>\n",
              "      <td>-0.08</td>\n",
              "      <td>-0.30</td>\n",
              "      <td>-1.91e-01</td>\n",
              "    </tr>\n",
              "    <tr>\n",
              "      <th>free sulfur dioxide</th>\n",
              "      <td>-0.15</td>\n",
              "      <td>-0.02</td>\n",
              "      <td>-6.89e-02</td>\n",
              "      <td>8.84e-02</td>\n",
              "      <td>0.01</td>\n",
              "      <td>1.00e+00</td>\n",
              "      <td>6.20e-01</td>\n",
              "      <td>-0.02</td>\n",
              "      <td>0.15</td>\n",
              "      <td>0.11</td>\n",
              "      <td>-0.02</td>\n",
              "      <td>-3.61e-03</td>\n",
              "    </tr>\n",
              "    <tr>\n",
              "      <th>total sulfur dioxide</th>\n",
              "      <td>-0.09</td>\n",
              "      <td>0.10</td>\n",
              "      <td>4.66e-03</td>\n",
              "      <td>2.00e-01</td>\n",
              "      <td>0.18</td>\n",
              "      <td>6.20e-01</td>\n",
              "      <td>1.00e+00</td>\n",
              "      <td>0.15</td>\n",
              "      <td>0.01</td>\n",
              "      <td>-0.05</td>\n",
              "      <td>-0.25</td>\n",
              "      <td>-2.03e-01</td>\n",
              "    </tr>\n",
              "    <tr>\n",
              "      <th>density</th>\n",
              "      <td>0.61</td>\n",
              "      <td>0.04</td>\n",
              "      <td>3.05e-01</td>\n",
              "      <td>3.95e-01</td>\n",
              "      <td>0.41</td>\n",
              "      <td>-2.15e-02</td>\n",
              "      <td>1.50e-01</td>\n",
              "      <td>1.00</td>\n",
              "      <td>-0.23</td>\n",
              "      <td>0.08</td>\n",
              "      <td>-0.54</td>\n",
              "      <td>-2.15e-01</td>\n",
              "    </tr>\n",
              "    <tr>\n",
              "      <th>pH</th>\n",
              "      <td>-0.68</td>\n",
              "      <td>0.22</td>\n",
              "      <td>-4.70e-01</td>\n",
              "      <td>-5.47e-02</td>\n",
              "      <td>-0.18</td>\n",
              "      <td>1.49e-01</td>\n",
              "      <td>1.00e-02</td>\n",
              "      <td>-0.23</td>\n",
              "      <td>1.00</td>\n",
              "      <td>0.01</td>\n",
              "      <td>0.13</td>\n",
              "      <td>-6.03e-02</td>\n",
              "    </tr>\n",
              "    <tr>\n",
              "      <th>sulphates</th>\n",
              "      <td>0.17</td>\n",
              "      <td>-0.32</td>\n",
              "      <td>2.57e-01</td>\n",
              "      <td>4.02e-02</td>\n",
              "      <td>-0.08</td>\n",
              "      <td>1.07e-01</td>\n",
              "      <td>-4.97e-02</td>\n",
              "      <td>0.08</td>\n",
              "      <td>0.01</td>\n",
              "      <td>1.00</td>\n",
              "      <td>0.26</td>\n",
              "      <td>4.14e-01</td>\n",
              "    </tr>\n",
              "    <tr>\n",
              "      <th>alcohol</th>\n",
              "      <td>-0.04</td>\n",
              "      <td>-0.22</td>\n",
              "      <td>1.38e-01</td>\n",
              "      <td>9.82e-02</td>\n",
              "      <td>-0.30</td>\n",
              "      <td>-2.24e-02</td>\n",
              "      <td>-2.45e-01</td>\n",
              "      <td>-0.54</td>\n",
              "      <td>0.13</td>\n",
              "      <td>0.26</td>\n",
              "      <td>1.00</td>\n",
              "      <td>4.93e-01</td>\n",
              "    </tr>\n",
              "    <tr>\n",
              "      <th>quality</th>\n",
              "      <td>0.11</td>\n",
              "      <td>-0.35</td>\n",
              "      <td>2.12e-01</td>\n",
              "      <td>7.93e-03</td>\n",
              "      <td>-0.19</td>\n",
              "      <td>-3.61e-03</td>\n",
              "      <td>-2.03e-01</td>\n",
              "      <td>-0.22</td>\n",
              "      <td>-0.06</td>\n",
              "      <td>0.41</td>\n",
              "      <td>0.49</td>\n",
              "      <td>1.00e+00</td>\n",
              "    </tr>\n",
              "  </tbody>\n",
              "</table>\n",
              "</div>"
            ],
            "text/plain": [
              "                      fixed acidity  volatile acidity  ...  alcohol   quality\n",
              "fixed acidity                  1.00             -0.27  ...    -0.04  1.13e-01\n",
              "volatile acidity              -0.27              1.00  ...    -0.22 -3.47e-01\n",
              "citric acid                    0.66             -0.63  ...     0.14  2.12e-01\n",
              "residual sugar                 0.23              0.04  ...     0.10  7.93e-03\n",
              "chlorides                      0.20              0.12  ...    -0.30 -1.91e-01\n",
              "free sulfur dioxide           -0.15             -0.02  ...    -0.02 -3.61e-03\n",
              "total sulfur dioxide          -0.09              0.10  ...    -0.25 -2.03e-01\n",
              "density                        0.61              0.04  ...    -0.54 -2.15e-01\n",
              "pH                            -0.68              0.22  ...     0.13 -6.03e-02\n",
              "sulphates                      0.17             -0.32  ...     0.26  4.14e-01\n",
              "alcohol                       -0.04             -0.22  ...     1.00  4.93e-01\n",
              "quality                        0.11             -0.35  ...     0.49  1.00e+00\n",
              "\n",
              "[12 rows x 12 columns]"
            ]
          },
          "metadata": {
            "tags": []
          },
          "execution_count": 30
        }
      ]
    },
    {
      "cell_type": "code",
      "metadata": {
        "colab": {
          "base_uri": "https://localhost:8080/"
        },
        "id": "yGnKmQN7LRnA",
        "outputId": "6d2d8d07-f85d-4902-bfd3-8108473066a6"
      },
      "source": [
        "#Correlation with output variable\n",
        "cor_target = abs(cor[\"quality\"])\n",
        "\n",
        "#Selecting highly correlated features\n",
        "relevant_features = cor_target[cor_target>0.25]\n",
        "relevant_features"
      ],
      "execution_count": 31,
      "outputs": [
        {
          "output_type": "execute_result",
          "data": {
            "text/plain": [
              "volatile acidity    0.39\n",
              "sulphates           0.25\n",
              "alcohol             0.48\n",
              "quality             1.00\n",
              "Name: quality, dtype: float64"
            ]
          },
          "metadata": {
            "tags": []
          },
          "execution_count": 31
        }
      ]
    },
    {
      "cell_type": "code",
      "metadata": {
        "colab": {
          "base_uri": "https://localhost:8080/",
          "height": 1000
        },
        "id": "Iz6qAztyLVp6",
        "outputId": "5fd887df-7a5b-4cb5-825e-2c40766c38ca"
      },
      "source": [
        "from scipy import stats\n",
        "#histogram and normal probability plot\n",
        "print( data_cleared_iqr.columns )\n",
        "print( stats.skew(data_cleared_iqr) )\n",
        "\n",
        "sns.distplot(data_cleared_iqr['quality'], hist=True);\n",
        "fig = plt.figure()\n",
        "res = stats.probplot(data_cleared_iqr['quality'], plot=plt)"
      ],
      "execution_count": 32,
      "outputs": [
        {
          "output_type": "stream",
          "text": [
            "Index(['fixed acidity', 'volatile acidity', 'citric acid', 'residual sugar',\n",
            "       'chlorides', 'free sulfur dioxide', 'total sulfur dioxide', 'density',\n",
            "       'pH', 'sulphates', 'alcohol', 'quality'],\n",
            "      dtype='object')\n",
            "[0.73688144 0.26926177 0.31117035 0.60953515 0.22209539 0.83058877\n",
            " 0.97861938 0.05187523 0.06057182 0.62300692 0.78152439 0.25642334]\n"
          ],
          "name": "stdout"
        },
        {
          "output_type": "stream",
          "text": [
            "/usr/local/lib/python3.7/dist-packages/seaborn/distributions.py:2557: FutureWarning: `distplot` is a deprecated function and will be removed in a future version. Please adapt your code to use either `displot` (a figure-level function with similar flexibility) or `histplot` (an axes-level function for histograms).\n",
            "  warnings.warn(msg, FutureWarning)\n"
          ],
          "name": "stderr"
        },
        {
          "output_type": "display_data",
          "data": {
            "image/png": "[encoded data removed]",
            "text/plain": [
              "<Figure size 936x720 with 1 Axes>"
            ]
          },
          "metadata": {
            "tags": [],
            "needs_background": "light"
          }
        },
        {
          "output_type": "display_data",
          "data": {
            "image/png": "[encoded data removed]",
            "text/plain": [
              "<Figure size 936x720 with 1 Axes>"
            ]
          },
          "metadata": {
            "tags": [],
            "needs_background": "light"
          }
        }
      ]
    },
    {
      "cell_type": "code",
      "metadata": {
        "colab": {
          "base_uri": "https://localhost:8080/"
        },
        "id": "7LM-GV_oLfiv",
        "outputId": "e64dcd3a-f59c-459b-ed09-605f9c538081"
      },
      "source": [
        "# variable selection\n",
        "x = data_cleared_iqr.drop(columns=['quality'])\n",
        "x = x[['volatile acidity','sulphates','alcohol']]\n",
        "y = data_cleared_iqr[\"quality\"]\n",
        "print(x.shape)\n",
        "print(y.shape)"
      ],
      "execution_count": 35,
      "outputs": [
        {
          "output_type": "stream",
          "text": [
            "(1179, 3)\n",
            "(1179,)\n"
          ],
          "name": "stdout"
        }
      ]
    },
    {
      "cell_type": "code",
      "metadata": {
        "id": "cp6PawLXLf2M"
      },
      "source": [
        "from sklearn.model_selection import train_test_split\n",
        "#testing data size is of 25% of entire data\n",
        "x_train, x_test, y_train, y_test =train_test_split(x,y, test_size=0.25, random_state=101) "
      ],
      "execution_count": 36,
      "outputs": []
    },
    {
      "cell_type": "code",
      "metadata": {
        "id": "wnGJHts8Locn"
      },
      "source": [
        "from sklearn.linear_model import LinearRegression\n",
        "#fitting our model to train and test\n",
        "lm = LinearRegression() \n",
        "model = lm.fit(x_train,y_train) "
      ],
      "execution_count": 37,
      "outputs": []
    },
    {
      "cell_type": "code",
      "metadata": {
        "colab": {
          "base_uri": "https://localhost:8080/"
        },
        "id": "nNx4ARxBLoyB",
        "outputId": "4d04e4af-d536-4e08-f791-fa6a61fe4bcb"
      },
      "source": [
        "print(x.columns)\n",
        "print(model.intercept_) # w0\n",
        "print(model.coef_) # w1 w2 w3"
      ],
      "execution_count": 39,
      "outputs": [
        {
          "output_type": "stream",
          "text": [
            "Index(['volatile acidity', 'sulphates', 'alcohol'], dtype='object')\n",
            "2.3166110018271255\n",
            "[-0.8668031   1.38931766  0.27769497]\n"
          ],
          "name": "stdout"
        }
      ]
    },
    {
      "cell_type": "code",
      "metadata": {
        "id": "Dirdi2uRLo_B"
      },
      "source": [
        "y_pred = model.predict(x_test)"
      ],
      "execution_count": 40,
      "outputs": []
    },
    {
      "cell_type": "code",
      "metadata": {
        "colab": {
          "base_uri": "https://localhost:8080/",
          "height": 204
        },
        "id": "Gmpk1RRnLpfc",
        "outputId": "d8158de1-89d6-4634-ad66-f2f610178937"
      },
      "source": [
        "pd.DataFrame({\"Actual\": y_test, \"Predict\": y_pred}).head()"
      ],
      "execution_count": 41,
      "outputs": [
        {
          "output_type": "execute_result",
          "data": {
            "text/html": [
              "<div>\n",
              "<style scoped>\n",
              "    .dataframe tbody tr th:only-of-type {\n",
              "        vertical-align: middle;\n",
              "    }\n",
              "\n",
              "    .dataframe tbody tr th {\n",
              "        vertical-align: top;\n",
              "    }\n",
              "\n",
              "    .dataframe thead th {\n",
              "        text-align: right;\n",
              "    }\n",
              "</style>\n",
              "<table border=\"1\" class=\"dataframe\">\n",
              "  <thead>\n",
              "    <tr style=\"text-align: right;\">\n",
              "      <th></th>\n",
              "      <th>Actual</th>\n",
              "      <th>Predict</th>\n",
              "    </tr>\n",
              "  </thead>\n",
              "  <tbody>\n",
              "    <tr>\n",
              "      <th>577</th>\n",
              "      <td>5</td>\n",
              "      <td>5.41</td>\n",
              "    </tr>\n",
              "    <tr>\n",
              "      <th>406</th>\n",
              "      <td>6</td>\n",
              "      <td>5.84</td>\n",
              "    </tr>\n",
              "    <tr>\n",
              "      <th>1591</th>\n",
              "      <td>6</td>\n",
              "      <td>5.67</td>\n",
              "    </tr>\n",
              "    <tr>\n",
              "      <th>1284</th>\n",
              "      <td>5</td>\n",
              "      <td>5.76</td>\n",
              "    </tr>\n",
              "    <tr>\n",
              "      <th>2</th>\n",
              "      <td>5</td>\n",
              "      <td>5.28</td>\n",
              "    </tr>\n",
              "  </tbody>\n",
              "</table>\n",
              "</div>"
            ],
            "text/plain": [
              "      Actual  Predict\n",
              "577        5     5.41\n",
              "406        6     5.84\n",
              "1591       6     5.67\n",
              "1284       5     5.76\n",
              "2          5     5.28"
            ]
          },
          "metadata": {
            "tags": []
          },
          "execution_count": 41
        }
      ]
    },
    {
      "cell_type": "code",
      "metadata": {
        "colab": {
          "base_uri": "https://localhost:8080/",
          "height": 623
        },
        "id": "h6JL0E0oL-I6",
        "outputId": "f7184736-ced3-42dd-f590-749f563bed43"
      },
      "source": [
        "plt.scatter(y_test,y_pred)\n",
        "plt.xlabel('Y Test')\n",
        "plt.ylabel('Predicted Y')"
      ],
      "execution_count": 42,
      "outputs": [
        {
          "output_type": "execute_result",
          "data": {
            "text/plain": [
              "Text(0, 0.5, 'Predicted Y')"
            ]
          },
          "metadata": {
            "tags": []
          },
          "execution_count": 42
        },
        {
          "output_type": "display_data",
          "data": {
            "image/png": "[encoded data removed]",
            "text/plain": [
              "<Figure size 936x720 with 1 Axes>"
            ]
          },
          "metadata": {
            "tags": [],
            "needs_background": "light"
          }
        }
      ]
    },
    {
      "cell_type": "code",
      "metadata": {
        "colab": {
          "base_uri": "https://localhost:8080/"
        },
        "id": "MImWAyP_MHJB",
        "outputId": "49246d99-aadd-4ce0-86c0-4a25f5294b3b"
      },
      "source": [
        "# calculate MSE\n",
        "import math\n",
        "import sklearn\n",
        "mse = sklearn.metrics.mean_squared_error(y_test, y_pred)\n",
        "print(math.sqrt(mse))\n",
        "print(y_test.mean())\n",
        "\n",
        "# R^2\n",
        "print( model.score(x_test,y_test) )"
      ],
      "execution_count": 43,
      "outputs": [
        {
          "output_type": "stream",
          "text": [
            "0.5307557892965689\n",
            "5.640677966101695\n",
            "0.4529590947573198\n"
          ],
          "name": "stdout"
        }
      ]
    },
    {
      "cell_type": "code",
      "metadata": {
        "colab": {
          "base_uri": "https://localhost:8080/",
          "height": 419
        },
        "id": "kVA3sNEoMILw",
        "outputId": "17b856c1-09ed-486a-f42b-af98fdcc870e"
      },
      "source": [
        "pd.DataFrame({\"Actual\": y_test, \"Predict\": y_pred})"
      ],
      "execution_count": 44,
      "outputs": [
        {
          "output_type": "execute_result",
          "data": {
            "text/html": [
              "<div>\n",
              "<style scoped>\n",
              "    .dataframe tbody tr th:only-of-type {\n",
              "        vertical-align: middle;\n",
              "    }\n",
              "\n",
              "    .dataframe tbody tr th {\n",
              "        vertical-align: top;\n",
              "    }\n",
              "\n",
              "    .dataframe thead th {\n",
              "        text-align: right;\n",
              "    }\n",
              "</style>\n",
              "<table border=\"1\" class=\"dataframe\">\n",
              "  <thead>\n",
              "    <tr style=\"text-align: right;\">\n",
              "      <th></th>\n",
              "      <th>Actual</th>\n",
              "      <th>Predict</th>\n",
              "    </tr>\n",
              "  </thead>\n",
              "  <tbody>\n",
              "    <tr>\n",
              "      <th>577</th>\n",
              "      <td>5</td>\n",
              "      <td>5.41</td>\n",
              "    </tr>\n",
              "    <tr>\n",
              "      <th>406</th>\n",
              "      <td>6</td>\n",
              "      <td>5.84</td>\n",
              "    </tr>\n",
              "    <tr>\n",
              "      <th>1591</th>\n",
              "      <td>6</td>\n",
              "      <td>5.67</td>\n",
              "    </tr>\n",
              "    <tr>\n",
              "      <th>1284</th>\n",
              "      <td>5</td>\n",
              "      <td>5.76</td>\n",
              "    </tr>\n",
              "    <tr>\n",
              "      <th>2</th>\n",
              "      <td>5</td>\n",
              "      <td>5.28</td>\n",
              "    </tr>\n",
              "    <tr>\n",
              "      <th>...</th>\n",
              "      <td>...</td>\n",
              "      <td>...</td>\n",
              "    </tr>\n",
              "    <tr>\n",
              "      <th>60</th>\n",
              "      <td>5</td>\n",
              "      <td>5.41</td>\n",
              "    </tr>\n",
              "    <tr>\n",
              "      <th>1164</th>\n",
              "      <td>5</td>\n",
              "      <td>5.34</td>\n",
              "    </tr>\n",
              "    <tr>\n",
              "      <th>24</th>\n",
              "      <td>6</td>\n",
              "      <td>5.54</td>\n",
              "    </tr>\n",
              "    <tr>\n",
              "      <th>900</th>\n",
              "      <td>5</td>\n",
              "      <td>6.28</td>\n",
              "    </tr>\n",
              "    <tr>\n",
              "      <th>964</th>\n",
              "      <td>6</td>\n",
              "      <td>6.17</td>\n",
              "    </tr>\n",
              "  </tbody>\n",
              "</table>\n",
              "<p>295 rows Ã— 2 columns</p>\n",
              "</div>"
            ],
            "text/plain": [
              "      Actual  Predict\n",
              "577        5     5.41\n",
              "406        6     5.84\n",
              "1591       6     5.67\n",
              "1284       5     5.76\n",
              "2          5     5.28\n",
              "...      ...      ...\n",
              "60         5     5.41\n",
              "1164       5     5.34\n",
              "24         6     5.54\n",
              "900        5     6.28\n",
              "964        6     6.17\n",
              "\n",
              "[295 rows x 2 columns]"
            ]
          },
          "metadata": {
            "tags": []
          },
          "execution_count": 44
        }
      ]
    },
    {
      "cell_type": "markdown",
      "metadata": {
        "id": "EQ4W0nuTMNAp"
      },
      "source": [
        "# **Answer**"
      ]
    },
    {
      "cell_type": "markdown",
      "metadata": {
        "id": "YACI43GkM9Ch"
      },
      "source": [
        "**â€¢ Check linearity assumption to target (corr)**\n",
        "  \n",
        "  fixed acidity           0.12\n",
        "  \n",
        "  volatile acidity        0.39\n",
        "  \n",
        "  citric acid             0.23\n",
        "  \n",
        "  residual sugar          0.01\n",
        "  \n",
        "  chlorides               0.13\n",
        "  \n",
        "  free sulfur dioxide     0.05\n",
        "  \n",
        "  total sulfur dioxide    0.19\n",
        "  \n",
        "  density                 0.17\n",
        "  \n",
        "  pH                      0.06\n",
        "  \n",
        "  sulphates               0.25\n",
        "  \n",
        "  alcohol                 0.48\n",
        "  \n",
        "  quality                 1.00\n",
        "\n",
        "**â€¢ Select variables**\n",
        "\n",
        "  condition corr >= .25\n",
        "\n",
        "  sulphates               0.25\n",
        "  \n",
        "  alcohol                 0.48\n",
        "  \n",
        "  volatile acidity        0.39  \n",
        "\n",
        "**â€¢ Create model & report equation**\n",
        "\n",
        "  quality = (volatile acidity * -1.24589318) +  (sulphates * 0.65587012) +  (alcohol * 0.32113945)\n",
        "\n",
        "**â€¢ Predict & evaluate RMSE & R2 on Test set**\n",
        "\n",
        "  RMSE = 0.7247871008598725\n",
        "\n",
        "  R^2 = 0.27319519688304217\n",
        "\n",
        "**â€¢ Are there any predicted value out of range?**\n",
        "\n",
        "  still in range \n",
        "\n",
        "**â€¢ Improve your model (post-processing)**\n",
        "\n",
        "  à¸à¸³à¸ˆà¸±à¸” outliers à¸”à¹‰à¸§à¸¢à¸à¸²à¸£à¹ƒà¸Šà¹‰ boxplot à¸à¸³à¸ˆà¸±à¸”à¸„à¹ˆà¸²à¸—à¸µà¹ˆà¹€à¸à¸´à¸™ 1.5 * IQR à¸«à¸£à¸·à¸­à¸™à¹‰à¸­à¸¢à¸à¸§à¹ˆà¸² -1.5 * IQR à¸­à¸­à¸à¹„à¸› à¹à¸¥à¹‰à¸§à¸—à¸³à¸à¸²à¸£ reprocess à¹ƒà¸«à¸¡à¹ˆ\n",
        "\n",
        "**â€¢ Re-evaluate RMSE & on R-square on Test set**\n",
        "\n",
        "quality = (volatile acidity * -0.8668031) +  (sulphates * 1.38931766) +  (alcohol * 0.27769497)\n",
        "\n",
        "RMSE = 0.5307557892965689\n",
        "\n",
        "R^2 = 0.4529590947573198"
      ]
    }
  ]
}
