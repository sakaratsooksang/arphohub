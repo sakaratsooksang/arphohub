{
  "nbformat": 4,
  "nbformat_minor": 0,
  "metadata": {
    "colab": {
      "name": "LAB2SATSURV.ipynb",
      "provenance": [],
      "collapsed_sections": [],
      "authorship_tag": "ABX9TyPfhCHnj8O6Ly8YqnfPlsp9",
      "include_colab_link": true
    },
    "kernelspec": {
      "name": "python3",
      "display_name": "Python 3"
    }
  },
  "cells": [
    {
      "cell_type": "markdown",
      "metadata": {
        "id": "view-in-github",
        "colab_type": "text"
      },
      "source": [
        "<a href=\"https://colab.research.google.com/github/sakaratsooksang/arphohub/blob/main/LAB2SATSURV.ipynb\" target=\"_parent\"><img src=\"https://colab.research.google.com/assets/colab-badge.svg\" alt=\"Open In Colab\"/></a>"
      ]
    },
    {
      "cell_type": "code",
      "metadata": {
        "colab": {
          "base_uri": "https://localhost:8080/"
        },
        "id": "dp2oqyrOrZpM",
        "outputId": "3e37d2cb-1a9f-499b-8242-a86a1f716c3e"
      },
      "source": [
        "import pyproj\r\n",
        "\r\n",
        "def lla2xyz_WGS84(lat,lon,ell_h):\r\n",
        "    ecef = {\"proj\":'geocent', \"ellps\":'WGS84', \"datum\":'WGS84'} # Cartisian\r\n",
        "    lla = \"EPSG:4326\" # WGS84 Geodetic\r\n",
        "    transproj = pyproj.Transformer.from_crs(lla,ecef,always_xy=True)\r\n",
        "    x,y,z = transproj.transform(lon,lat,ell_h,radians=False)\r\n",
        "    return x,y,z\r\n",
        "def lla2utm_WGS84(lat,lon,ell_h):\r\n",
        "    utm = \"EPSG:32647\" # WGS84 UTM Zone 47N\r\n",
        "    lla = \"EPSG:4326\" # WGS84 Geodetic\r\n",
        "    transproj = pyproj.Transformer.from_crs(lla,utm,always_xy=True) # always_xy หมายถึงให้เรียง lon,lat\r\n",
        "    E,N,h = transproj.transform(lon,lat,ell_h,radians=False)\r\n",
        "    return (E,N,h)\r\n",
        "    \r\n",
        "def xyz2lla_INDIAN(x,y,z):\r\n",
        "    #ecef = +proj=geocent +a=6377276.345 +b=6356075.41314024 +towgs84=204.5,837.9,294.8,0,0,0,0 +no_defs\r\n",
        "    ecef = {'proj':'geocent','a':6377276.345,'b':6356075.41314024} # Everest 1830 Cartisian\r\n",
        "    lla = \"EPSG:4240\" # geodetic INDIAN 1975\r\n",
        "    transproj = pyproj.Transformer.from_crs(ecef,lla,always_xy=True)\r\n",
        "    lat,lon,ell_h = transproj.transform(x,y,z,radians=False)\r\n",
        "    return lat,lon,ell_h  \r\n",
        "def lla2utm_INDIAN(lat,lon,ell_h):\r\n",
        "    lla = \"EPSG:4240\" # geodetic INDIAN 1975\r\n",
        "    utm = 'EPSG:24047' # INDIAN UTM Zone 47N\r\n",
        "    transproj = pyproj.Transformer.from_crs(lla,utm,always_xy=True)\r\n",
        "    E,N,h = transproj.transform(lon,lat,ell_h,radians=False)\r\n",
        "    return E,N,h\r\n",
        "def xyz2lla_INDIAN(x,y,z):\r\n",
        "    ecef = {'proj':'geocent','a':6377276.345,'b':6356075.41314024} # Everest 1830 Cartisian\r\n",
        "    lla = \"EPSG:4240\" # geodetic INDIAN 1975\r\n",
        "    transproj = pyproj.Transformer.from_crs(ecef,lla,always_xy=True)\r\n",
        "    lat,lon,ell_h = transproj.transform(x,y,z,radians=False)\r\n",
        "    return lat,lon,ell_h  \r\n",
        "def xyz2utm_INDIAN(x,y,z):\r\n",
        "    ecef = {\"proj\":'geocent', 'a':6377276.345,'b':6356075.41314024} # Cartisian\r\n",
        "    utm = 'EPSG:24047' # INDIAN UTM Zone 47N\r\n",
        "    transproj = pyproj.Transformer.from_crs(ecef,utm,always_xy=True)\r\n",
        "    E,N,h = transproj.transform(x,y,z)\r\n",
        "    return E,N,h\r\n",
        "def xyzWGS2xyzINDIAN(x,y,z):\r\n",
        "    xn,yn,zn = x-204.5 , y-837.9 , z-294.8\r\n",
        "    return xn,yn,zn\r\n",
        "#Example Command.\r\n",
        "\r\n",
        "# Transform cycle\r\n",
        "lat,lon,h = 13.023433,100.343425,50.0    \r\n",
        "x,y,z = lla2xyz_WGS84(lat,lon,h) \r\n",
        "print('\"Geodetic2Cartesian WGS84\"')\r\n",
        "print('X = {:} , Y = {:} , Z = {:} '.format(x,y,z))\r\n",
        "x75,y75,z75 = xyzWGS2xyzINDIAN(x,y,z)\r\n",
        "print('\"Cartesian WGS84_2_INDIAN1975\"')\r\n",
        "print('X = {:} , Y = {:} , Z = {:} '.format(x75,y75,z75))\r\n",
        "lon75,lat75,h75 = xyz2lla_INDIAN(x75,y75,z75)\r\n",
        "print('\"Cart75_2_Geodetic75\"')\r\n",
        "print('latitude = {:} , longitude = {:} , h = {:} '.format(lat75,lon75,h75))\r\n",
        "# now we got the Geodetic coordinate in both datum .\r\n",
        "\r\n",
        "# UTM Transform\r\n",
        "print('\\n')\r\n",
        "E84,N84,h84 = lla2utm_WGS84(lat,lon,h)\r\n",
        "print('UTM WGS84')\r\n",
        "print('E = {:} , N = {:} , h = {:} '.format(E84,N84,h84))\r\n",
        "E75,N75,h75 = lla2utm_INDIAN(lat75,lon75,h75)\r\n",
        "print('UTM INDIAN1975')\r\n",
        "print('E = {:} , N = {:} , h = {:} '.format(E75,N75,h75))\r\n",
        "\r\n",
        "\r\n"
      ],
      "execution_count": null,
      "outputs": [
        {
          "output_type": "stream",
          "text": [
            "\"Geodetic2Cartesian WGS84\"\n",
            "X = -1115922.9260500825 , Y = 6114182.226982298 , Z = 1427942.3202824679 \n",
            "\"Cartesian WGS84_2_INDIAN1975\"\n",
            "X = -1116127.4260500825 , Y = 6113344.326982298 , Z = 1427647.5202824678 \n",
            "\"Cart75_2_Geodetic75\"\n",
            "latitude = 13.02171374258348 , longitude = 100.34666688129747 , h = 67.62421891931444 \n",
            "\n",
            "\n",
            "UTM WGS84\n",
            "E = 645681.2307787952 , N = 1440112.019805582 , h = 50.0 \n",
            "UTM INDIAN1975\n",
            "E = 646013.9309442071 , N = 1439809.2433145721 , h = 67.62421891931444 \n"
          ],
          "name": "stdout"
        }
      ]
    }
  ]
}